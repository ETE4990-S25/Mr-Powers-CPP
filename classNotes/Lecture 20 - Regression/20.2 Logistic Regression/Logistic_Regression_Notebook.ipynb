{
 "cells": [
  {
   "cell_type": "markdown",
   "id": "e25783b8",
   "metadata": {},
   "source": [
    "# Logistic Regression \n",
    "\n",
    "Statistical method for analyzing datasets in which there are one or more independent variables that determine an outcome. The outcome is measured with a dichotomous variable (in which there are only two possible outcomes). It is used to predict the probability of a binary event occurring, such as pass/fail, win/lose, alive/dead.\n",
    "\n",
    "**Importing the Libraries**"
   ]
  },
  {
   "cell_type": "code",
   "execution_count": null,
   "id": "b7ba1cb4",
   "metadata": {},
   "outputs": [],
   "source": [
    "import pandas as pd\n",
    "import numpy as np\n",
    "import matplotlib.pyplot as plt\n",
    "import seaborn as sns\n",
    "import warnings\n",
    "warnings.filterwarnings(\"ignore\")\n",
    "df = sns.load_dataset(\"titanic\")"
   ]
  },
  {
   "cell_type": "markdown",
   "id": "ef923527",
   "metadata": {},
   "source": [
    "## Perform EDA \n",
    "Here are some of the fetures of the dataset \n",
    "\n",
    "* `Survived`: A binary variable indicating whether the passenger survived (1 = Yes, 0 = No).\n",
    "* `Pclass`: Passenger class (1 = 1st, 2 = 2nd, 3 = 3rd).\n",
    "* `Sex`: Gender of the passenger.\n",
    "* `Age`: Age of the passenger.\n",
    "* `SibSp`: Number of siblings/spouses aboard.\n",
    "* `Parch`: Number of parents/children aboard.\n",
    "* `Fare`: Passenger fare.\n",
    "* `Embarked`: Port of embarkation (C = Cherbourg, Q = Queenstown, S = Southampton)\n",
    "\n"
   ]
  },
  {
   "cell_type": "code",
   "execution_count": null,
   "id": "5c1b1434",
   "metadata": {},
   "outputs": [],
   "source": [
    "df.info()"
   ]
  },
  {
   "cell_type": "code",
   "execution_count": null,
   "id": "591823a1",
   "metadata": {},
   "outputs": [],
   "source": [
    "df.head()\n"
   ]
  },
  {
   "cell_type": "markdown",
   "id": "d0d037cc",
   "metadata": {},
   "source": [
    "Lets take a look at a few features "
   ]
  },
  {
   "cell_type": "code",
   "execution_count": null,
   "id": "59041a7b",
   "metadata": {},
   "outputs": [],
   "source": [
    "plt.figure(figsize = (10, 6))\n",
    "sns.distplot(df[\"age\"], color = \"darkred\")"
   ]
  },
  {
   "cell_type": "code",
   "execution_count": null,
   "id": "1e8bf58c",
   "metadata": {},
   "outputs": [],
   "source": [
    "plt.figure(figsize = (10, 6))\n",
    "sns.distplot(df[\"fare\"], color = \"darkred\")"
   ]
  },
  {
   "cell_type": "code",
   "execution_count": null,
   "id": "7749c5b7",
   "metadata": {},
   "outputs": [],
   "source": [
    "plt.figure(figsize = (10, 6))\n",
    "sns.histplot(df[\"who\"], color = \"darkred\")"
   ]
  },
  {
   "cell_type": "markdown",
   "id": "ae7de7be",
   "metadata": {},
   "source": [
    "Lets take a look at the children "
   ]
  },
  {
   "cell_type": "code",
   "execution_count": null,
   "id": "768e5642",
   "metadata": {},
   "outputs": [],
   "source": [
    "print(df[\"sex\"].unique())\n",
    "print(df[\"who\"].unique())"
   ]
  },
  {
   "cell_type": "code",
   "execution_count": null,
   "id": "56cc4919",
   "metadata": {},
   "outputs": [],
   "source": [
    "children = df[df['who'] == 'child']\n",
    "male_children = children[children['sex'] == \"male\" ] \n",
    "female_children = children[children['sex'] == \"female\"]  \n",
    "print(\"Male Chilren: \\n\")\n",
    "print(male_children.isna().sum())\n",
    "print(\"\\nFemale Chilren: \\n\")\n"
   ]
  },
  {
   "cell_type": "code",
   "execution_count": null,
   "id": "929eb6cd",
   "metadata": {},
   "outputs": [],
   "source": [
    "print(female_children.isna().sum())"
   ]
  },
  {
   "cell_type": "code",
   "execution_count": null,
   "id": "f3bb9a2b",
   "metadata": {},
   "outputs": [],
   "source": [
    "plt.figure(figsize=(12, 6))\n",
    "\n",
    "\n",
    "plt.subplot(1, 2, 1)\n",
    "sns.histplot(male_children['age'], kde=True, color='blue')\n",
    "plt.title('Age Distribution of Male Children')\n",
    "\n",
    "\n",
    "plt.subplot(1, 2, 2)\n",
    "sns.histplot(female_children['age'], kde=True, color='pink')\n",
    "plt.title('Age Distribution of Female Children')\n",
    "\n",
    "plt.tight_layout()\n",
    "plt.show()\n"
   ]
  },
  {
   "cell_type": "code",
   "execution_count": null,
   "id": "4b8e9e34",
   "metadata": {},
   "outputs": [],
   "source": [
    "df.info()"
   ]
  },
  {
   "cell_type": "markdown",
   "id": "4ff983c9",
   "metadata": {},
   "source": [
    "Lets clean up the Deck as we have a over 600 missing datapoints. "
   ]
  },
  {
   "cell_type": "code",
   "execution_count": null,
   "id": "71591fb2",
   "metadata": {},
   "outputs": [],
   "source": [
    "sns.set_style(\"darkgrid\")\n",
    "sns.countplot(x = \"deck\", data = df, palette = \"viridis\")"
   ]
  },
  {
   "cell_type": "code",
   "execution_count": null,
   "id": "f84af971",
   "metadata": {},
   "outputs": [],
   "source": [
    "sns.set_style(\"darkgrid\")\n",
    "sns.countplot(x = \"deck\", hue= \"survived\", data = df, palette = \"viridis\")"
   ]
  },
  {
   "cell_type": "code",
   "execution_count": null,
   "id": "3852401f",
   "metadata": {},
   "outputs": [],
   "source": [
    "#Looking at the data above it is safe to say that the deck column is not useful for our analysis.\n",
    "df.drop([\"deck\"], axis = 1, inplace = True)"
   ]
  },
  {
   "cell_type": "markdown",
   "id": "3dafc5b9",
   "metadata": {},
   "source": [
    "What does this now tell us?\n",
    "we now know that all children have age. but we are still missing age for the rest of the data so lets add that in now. "
   ]
  },
  {
   "cell_type": "code",
   "execution_count": null,
   "id": "8f63d66b",
   "metadata": {},
   "outputs": [],
   "source": [
    "df.isna().sum()"
   ]
  },
  {
   "cell_type": "code",
   "execution_count": null,
   "id": "5a67f0c7",
   "metadata": {},
   "outputs": [],
   "source": [
    "df.head()"
   ]
  },
  {
   "cell_type": "code",
   "execution_count": null,
   "id": "0d2b5cd1",
   "metadata": {},
   "outputs": [],
   "source": [
    "#while this way is acceptable I do not think its the best way. \n",
    "average_age = df['age'].median()\n",
    "\n",
    "average_age_male = df[df['sex'] == 'male']['age'].mean()\n",
    "average_age_female = df[df['sex'] == 'female']['age'].mean()\n",
    "print(f\"Average age: {average_age}, Average male age: {int(average_age_male)}, Average female age: {int(average_age_female)}\")\n",
    "\n",
    "# Apply the average age to missing values for male and female passengers\n",
    "df.loc[(df['sex'] == 'male') & (df['age'].isnull()), 'age'] = average_age_male\n",
    "df.loc[(df['sex'] == 'female') & (df['age'].isnull()), 'age'] = average_age_female\n",
    "\n",
    "# Print the updated DataFrame to verify changes\n",
    "print(df.head())\n"
   ]
  },
  {
   "cell_type": "code",
   "execution_count": null,
   "id": "ebdeec76",
   "metadata": {},
   "outputs": [],
   "source": [
    "plt.figure(figsize=(12, 6))\n",
    "\n",
    "\n",
    "plt.subplot(1, 2, 1)\n",
    "\n",
    "sns.boxplot(x='pclass', y='age', data=df)\n",
    "plt.title('Box Plot of Age by Pclass')\n",
    "\n",
    "\n",
    "\n",
    "plt.subplot(1, 2, 2)\n",
    "\n",
    "sns.boxplot(x='sex', y='age', data=df)\n",
    "plt.title('Box Plot of Age by Sex')\n",
    "\n",
    "\n",
    "plt.tight_layout()\n",
    "plt.show()\n"
   ]
  },
  {
   "cell_type": "code",
   "execution_count": null,
   "id": "6a27e317",
   "metadata": {},
   "outputs": [],
   "source": [
    "average_age_male_C1 = df[(df['pclass'] == 1)& (df['sex']==\"male\")]['age'].mean()\n",
    "average_age_male_C2 = df[(df['pclass'] == 2)& (df['sex']==\"male\")]['age'].mean()\n",
    "average_age_male_C3 = df[(df['pclass'] == 3)& (df['sex']==\"male\")]['age'].mean()\n",
    "print(average_age_male_C1)\n",
    "print(average_age_male_C2)\n",
    "print(average_age_male_C3)"
   ]
  },
  {
   "cell_type": "code",
   "execution_count": null,
   "id": "dc44fefe",
   "metadata": {},
   "outputs": [],
   "source": [
    "average_age_female_C1 = df[(df['pclass'] == 1)& (df['sex']==\"female\")]['age'].mean()\n",
    "average_age_female_C2 = df[(df['pclass'] == 2)& (df['sex']==\"female\")]['age'].mean()\n",
    "average_age_female_C3 = df[(df['pclass'] == 3)& (df['sex']==\"female\")]['age'].mean()\n",
    "print(average_age_female_C1)\n",
    "print(average_age_female_C2)\n",
    "print(average_age_female_C3)"
   ]
  },
  {
   "cell_type": "code",
   "execution_count": null,
   "id": "2ad00673",
   "metadata": {},
   "outputs": [],
   "source": [
    "\n",
    "df.loc[(df['sex'] == 'male') & (df['pclass'] == 1) & (df['age'].isnull()), 'age'] = average_age_male_C1\n",
    "df.loc[(df['sex'] == 'male') & (df['pclass'] == 2) & (df['age'].isnull()), 'age'] = average_age_male_C2\n",
    "df.loc[(df['sex'] == 'male') & (df['pclass'] == 3) & (df['age'].isnull()), 'age'] = average_age_male_C3\n",
    "\n",
    "\n",
    "df.loc[(df['sex'] == 'female') & (df['pclass'] == 1) & (df['age'].isnull()), 'age'] = average_age_female_C1\n",
    "df.loc[(df['sex'] == 'female') & (df['pclass'] == 2) & (df['age'].isnull()), 'age'] = average_age_female_C2\n",
    "df.loc[(df['sex'] == 'female') & (df['pclass'] == 3) & (df['age'].isnull()), 'age'] = average_age_female_C3\n",
    "\n"
   ]
  },
  {
   "cell_type": "code",
   "execution_count": null,
   "id": "29900651",
   "metadata": {
    "scrolled": true
   },
   "outputs": [],
   "source": [
    "null_num = []\n",
    "for i in df.columns:\n",
    "    x = df[i].isnull().sum()\n",
    "    null_num.append(x)\n",
    "    \n",
    "pd.DataFrame(null_num, index = df.columns, columns = [\"Total Missing Values\"])"
   ]
  },
  {
   "cell_type": "code",
   "execution_count": null,
   "id": "cb9b3240",
   "metadata": {},
   "outputs": [],
   "source": [
    "df.dropna(inplace = True)"
   ]
  },
  {
   "cell_type": "code",
   "execution_count": null,
   "id": "7620985d",
   "metadata": {},
   "outputs": [],
   "source": [
    "null_num = []\n",
    "for i in df.columns:\n",
    "    x = df[i].isnull().sum()\n",
    "    null_num.append(x)\n",
    "    \n",
    "pd.DataFrame(null_num, index = df.columns, columns = [\"Total Missing Values\"])"
   ]
  },
  {
   "cell_type": "code",
   "execution_count": null,
   "id": "24204b02",
   "metadata": {},
   "outputs": [],
   "source": [
    "sns.set_style(\"darkgrid\")\n",
    "sns.countplot(x = \"survived\", data = df, palette = \"viridis\")"
   ]
  },
  {
   "cell_type": "code",
   "execution_count": null,
   "id": "dd2d0e1e",
   "metadata": {},
   "outputs": [],
   "source": [
    "df.survived.value_counts()"
   ]
  },
  {
   "cell_type": "code",
   "execution_count": null,
   "id": "16d5c46f",
   "metadata": {},
   "outputs": [],
   "source": [
    "sns.set_style(\"darkgrid\")\n",
    "sns.countplot(x = \"survived\", hue= \"alone\", data = df, palette = \"viridis\")"
   ]
  },
  {
   "cell_type": "code",
   "execution_count": null,
   "id": "a52c4917",
   "metadata": {},
   "outputs": [],
   "source": [
    "sns.set_style(\"darkgrid\")\n",
    "sns.countplot(x = \"survived\", hue= \"adult_male\", data = df)"
   ]
  },
  {
   "cell_type": "code",
   "execution_count": null,
   "id": "67b46890",
   "metadata": {},
   "outputs": [],
   "source": [
    "sns.set_style(\"darkgrid\")\n",
    "sns.countplot(x = \"survived\", hue= \"sex\", data = df)"
   ]
  },
  {
   "cell_type": "code",
   "execution_count": null,
   "id": "9924e7a3",
   "metadata": {},
   "outputs": [],
   "source": [
    "sns.set_style(\"darkgrid\")\n",
    "sns.countplot(x = \"survived\", hue= \"embark_town\", data = df)"
   ]
  },
  {
   "cell_type": "code",
   "execution_count": null,
   "id": "61162660",
   "metadata": {},
   "outputs": [],
   "source": [
    "df.embark_town.value_counts()"
   ]
  },
  {
   "cell_type": "code",
   "execution_count": null,
   "id": "3baad06a",
   "metadata": {},
   "outputs": [],
   "source": [
    "df.drop([\"age\", \"sibsp\", \"parch\"], axis = 1, inplace = True)"
   ]
  },
  {
   "cell_type": "code",
   "execution_count": null,
   "id": "e61c0686",
   "metadata": {},
   "outputs": [],
   "source": [
    "df.head()"
   ]
  },
  {
   "cell_type": "code",
   "execution_count": null,
   "id": "733a9652",
   "metadata": {},
   "outputs": [],
   "source": [
    "sex = pd.get_dummies(df[\"sex\"], drop_first = True)\n",
    "who = pd.get_dummies(df[\"who\"], drop_first = True)\n",
    "adult_male = pd.get_dummies(df[\"adult_male\"], drop_first = True)\n",
    "embark_town = pd.get_dummies(df[\"embark_town\"], drop_first = True)\n",
    "alone = pd.get_dummies(df[\"alone\"], drop_first = True)"
   ]
  },
  {
   "cell_type": "code",
   "execution_count": null,
   "id": "0f6f667b",
   "metadata": {},
   "outputs": [],
   "source": [
    "df = pd.concat([df, sex, who, adult_male, embark_town, alone], axis = 1)"
   ]
  },
  {
   "cell_type": "code",
   "execution_count": null,
   "id": "80d4402d",
   "metadata": {},
   "outputs": [],
   "source": [
    "df.head()"
   ]
  },
  {
   "cell_type": "code",
   "execution_count": null,
   "id": "7cc1b5ac",
   "metadata": {},
   "outputs": [],
   "source": [
    "df.drop([\"sex\", \"who\", \"adult_male\", \"embark_town\", \"alone\"], axis = 1, inplace = True)"
   ]
  },
  {
   "cell_type": "code",
   "execution_count": null,
   "id": "9bcb96dd",
   "metadata": {},
   "outputs": [],
   "source": [
    "df.head()"
   ]
  },
  {
   "cell_type": "code",
   "execution_count": null,
   "id": "3bfacb0f",
   "metadata": {},
   "outputs": [],
   "source": [
    "plt.figure(figsize = (10, 3))\n",
    "sns.heatmap(df.corr(), annot = True) #will not work "
   ]
  },
  {
   "cell_type": "markdown",
   "id": "3c657501",
   "metadata": {},
   "source": [
    "**Modelling** WIP"
   ]
  },
  {
   "cell_type": "code",
   "execution_count": null,
   "id": "87be6bc1",
   "metadata": {},
   "outputs": [],
   "source": [
    "from sklearn.model_selection import train_test_split"
   ]
  },
  {
   "cell_type": "code",
   "execution_count": null,
   "id": "ea016253",
   "metadata": {},
   "outputs": [],
   "source": [
    "X = df.drop(\"survived\", axis = 1)\n",
    "X = X.rename(str,axis=\"columns\") #needed to fix an error with column names\n",
    "y = df[\"survived\"]\n",
    "X.head()"
   ]
  },
  {
   "cell_type": "code",
   "execution_count": null,
   "id": "beeca616",
   "metadata": {},
   "outputs": [],
   "source": [
    "X_train, X_test, y_train, y_test = train_test_split(X, y, test_size = 0.15, random_state = 42)"
   ]
  },
  {
   "cell_type": "code",
   "execution_count": null,
   "id": "102aefd3",
   "metadata": {},
   "outputs": [],
   "source": [
    "from sklearn.linear_model import LogisticRegression"
   ]
  },
  {
   "cell_type": "code",
   "execution_count": null,
   "id": "68bf32a7-c1ae-4591-8cc0-c2236175c32a",
   "metadata": {},
   "outputs": [],
   "source": [
    "lm_model = LogisticRegression()"
   ]
  },
  {
   "cell_type": "code",
   "execution_count": null,
   "id": "8fbcf87f-6b72-425b-a4d9-d3626ffe4b67",
   "metadata": {},
   "outputs": [],
   "source": [
    "lm_model.fit(X_train, y_train)"
   ]
  },
  {
   "cell_type": "code",
   "execution_count": null,
   "id": "3339d20d-6ec1-4bef-b03f-efd80154dae2",
   "metadata": {},
   "outputs": [],
   "source": [
    "lm_model.intercept_"
   ]
  },
  {
   "cell_type": "code",
   "execution_count": null,
   "id": "a1b878f0-0e86-4b2e-84f8-b05e50aaff1e",
   "metadata": {},
   "outputs": [],
   "source": [
    "coef_param = pd.DataFrame(lm_model.coef_, index = X.columns, columns = [\"Coefficient\"])\n",
    "coef_param"
   ]
  },
  {
   "cell_type": "code",
   "execution_count": null,
   "id": "bbac9d41-280f-48fd-90ce-91c733378bdd",
   "metadata": {},
   "outputs": [],
   "source": [
    "y_pred = lm_model.predict(X_test)"
   ]
  },
  {
   "cell_type": "code",
   "execution_count": null,
   "id": "e85e37e6-6e29-438a-87f5-2704fb26932b",
   "metadata": {},
   "outputs": [],
   "source": [
    "my_dict = {\"Actual\" : y_test, \"Pred\" : y_pred}\n",
    "compare = pd.DataFrame(my_dict)"
   ]
  },
  {
   "cell_type": "code",
   "execution_count": null,
   "id": "0b0d3bf9-3ed2-42ae-ac8d-2dd099e864ee",
   "metadata": {},
   "outputs": [],
   "source": [
    "compare.sample(10)"
   ]
  },
  {
   "cell_type": "code",
   "execution_count": null,
   "id": "4fb16c82-1f77-46b1-8c14-ad1efa530c7a",
   "metadata": {},
   "outputs": [],
   "source": [
    "from sklearn.metrics import mean_squared_error, mean_absolute_error, r2_score"
   ]
  },
  {
   "cell_type": "code",
   "execution_count": null,
   "id": "cf3fbd06-6dcf-483f-be1d-d42fc8c45c52",
   "metadata": {},
   "outputs": [],
   "source": [
    "def evaluation_metrics(actual, pred):\n",
    "    MAE = mean_absolute_error(actual, pred)\n",
    "    MSE = mean_squared_error(actual, pred)\n",
    "    RMSE = np.sqrt(mean_squared_error(actual, pred))\n",
    "    SCORE = r2_score(actual, pred)\n",
    "    return print(\"r2_score:\", SCORE, \"\\n\",\"mae:\", MAE, \"\\n\",\"mse:\",MSE, \"\\n\",\"rmse:\",RMSE)"
   ]
  },
  {
   "cell_type": "code",
   "execution_count": null,
   "id": "2482e051-38c9-4b72-aa8b-cccd421bf086",
   "metadata": {},
   "outputs": [],
   "source": [
    "evaluation_metrics(y_test, y_pred)"
   ]
  },
  {
   "cell_type": "code",
   "execution_count": null,
   "id": "5da3c9cc-10b8-42b9-98df-e40349cb6d0e",
   "metadata": {},
   "outputs": [],
   "source": [
    "!pip install yellowbrick"
   ]
  },
  {
   "cell_type": "code",
   "execution_count": null,
   "id": "18731364-23ac-4bf2-b8e4-4cf5d7eeb330",
   "metadata": {},
   "outputs": [],
   "source": [
    "from yellowbrick.regressor import PredictionError\n",
    "\n",
    "# Instantiate the visualizer\n",
    "visualizer = PredictionError(lm_model)\n",
    "\n",
    "visualizer.fit(X_train, y_train)  # Fit the training data to the visualizer\n",
    "visualizer.score(X_test, y_test)  # Evaluate the model on the test data\n",
    "\n",
    "visualizer.show() # Finalize and render the figure"
   ]
  },
  {
   "cell_type": "code",
   "execution_count": null,
   "id": "fcdb59da-fa4d-4ba8-823d-6923af130e73",
   "metadata": {
    "scrolled": true
   },
   "outputs": [],
   "source": [
    "from yellowbrick.regressor import ResidualsPlot\n",
    "\n",
    "# Instantiate the visualizer\n",
    "visualizer = ResidualsPlot(lm_model)\n",
    "\n",
    "visualizer.fit(X_train, y_train) # Fit the training data to the visualizer\n",
    "visualizer.score(X_test, y_test) # Evaluate the model on the test data\n",
    "\n",
    "visualizer.show() # Finalize and render the figure"
   ]
  },
  {
   "cell_type": "code",
   "execution_count": null,
   "id": "051ea0db",
   "metadata": {},
   "outputs": [],
   "source": [
    "lr_model = LogisticRegression()"
   ]
  },
  {
   "cell_type": "code",
   "execution_count": null,
   "id": "332fbd18",
   "metadata": {},
   "outputs": [],
   "source": [
    "lr_model.fit(X_train, y_train)"
   ]
  },
  {
   "cell_type": "code",
   "execution_count": null,
   "id": "fbaf1852",
   "metadata": {},
   "outputs": [],
   "source": [
    "y_pred = lr_model.predict(X_test)\n",
    "y_pred"
   ]
  },
  {
   "cell_type": "code",
   "execution_count": null,
   "id": "f4f9240a",
   "metadata": {},
   "outputs": [],
   "source": [
    "from sklearn.metrics import classification_report\n",
    "from sklearn.metrics import confusion_matrix"
   ]
  },
  {
   "cell_type": "code",
   "execution_count": null,
   "id": "5183acc4",
   "metadata": {},
   "outputs": [],
   "source": [
    "print(classification_report(y_test, y_pred))"
   ]
  },
  {
   "cell_type": "code",
   "execution_count": null,
   "id": "52f9e8fe",
   "metadata": {},
   "outputs": [],
   "source": [
    "cnf_matrix = confusion_matrix(y_test, y_pred)"
   ]
  },
  {
   "cell_type": "code",
   "execution_count": null,
   "id": "8543aaba",
   "metadata": {},
   "outputs": [],
   "source": [
    "cnf_matrix"
   ]
  },
  {
   "cell_type": "code",
   "execution_count": null,
   "id": "7f2c2be0-544b-4583-a28d-2569e53b5c3d",
   "metadata": {},
   "outputs": [],
   "source": [
    "my_dict = {\"Actual\" : y_test, \"Pred\" : y_pred}\n",
    "compare = pd.DataFrame(my_dict)"
   ]
  },
  {
   "cell_type": "code",
   "execution_count": null,
   "id": "ad31a733-e734-443e-9796-a464809dd920",
   "metadata": {},
   "outputs": [],
   "source": [
    "compare.sample(10)"
   ]
  },
  {
   "cell_type": "code",
   "execution_count": null,
   "id": "4ce2c66e-c713-48ce-9569-ffa205c3b851",
   "metadata": {},
   "outputs": [],
   "source": []
  },
  {
   "cell_type": "code",
   "execution_count": null,
   "id": "f991b4fc-007d-4942-95fa-2e22a24517ec",
   "metadata": {},
   "outputs": [],
   "source": []
  }
 ],
 "metadata": {
  "kernelspec": {
   "display_name": "Python 3",
   "language": "python",
   "name": "python3"
  },
  "language_info": {
   "codemirror_mode": {
    "name": "ipython",
    "version": 3
   },
   "file_extension": ".py",
   "mimetype": "text/x-python",
   "name": "python",
   "nbconvert_exporter": "python",
   "pygments_lexer": "ipython3",
   "version": "3.12.3"
  }
 },
 "nbformat": 4,
 "nbformat_minor": 5
}
