{
 "cells": [
  {
   "cell_type": "markdown",
   "id": "48fc0de2",
   "metadata": {},
   "source": [
    "## Linear Regression: Understanding the data MPG - Part 1\n",
    "\n",
    "What is Linear regression \n",
    "\n",
    "Definition: \n",
    "Linear regression is one of the most fundamental models in statistics and machine learning. It is used to model the relationship between a dependent variable (also called the response or target) and one or more independent variables (or features). The goal is to fit a linear equation that best describes how the dependent variable changes in response to the independent variable(s).\n",
    "\n",
    "TLDR: Finding the relationship between on variable and how it impacts other variables (in ML its called a feature). Then you use math do describe the response.\n",
    "\n",
    "Still TLDR: Just like what we did above, but using math :-)"
   ]
  },
  {
   "cell_type": "markdown",
   "id": "fbfb06ae",
   "metadata": {},
   "source": [
    "## Load and Explore the Dataset"
   ]
  },
  {
   "cell_type": "code",
   "execution_count": null,
   "id": "8cf4698f",
   "metadata": {},
   "outputs": [],
   "source": [
    "#do everythin we did before:\n",
    "# importing libraries\n",
    "import numpy as np\n",
    "import pandas as pd\n",
    "import seaborn as sns\n",
    "import matplotlib.pyplot as plt\n",
    "# loading the dataset\n",
    "df = sns.load_dataset(\"mpg\")\n",
    "# clean the dataset\n",
    "df.drop([\"name\"], axis = 1, inplace = True) #drop the name of the car as it is not needed\n",
    "#drop all null values\n",
    "df.dropna(inplace = True) \n",
    "#use integer encoding to change the origen column to a number\n",
    "df[\"origin\"] = df[\"origin\"].astype('category')\n",
    "origin_mapping = dict(enumerate(df['origin'].cat.categories)) #save the map for later if needed\n",
    "df['origin'] = df['origin'].cat.codes\n",
    "\n"
   ]
  },
  {
   "cell_type": "code",
   "execution_count": null,
   "id": "8296c1de",
   "metadata": {},
   "outputs": [],
   "source": [
    "print(df.sort_values(\"mpg\").head())\n",
    "df.cylinders.unique() # show the unique values of the cylinders\n",
    "df.cylinders.value_counts() #show the counts"
   ]
  },
  {
   "cell_type": "markdown",
   "id": "37b3b42e",
   "metadata": {},
   "source": [
    "## Lets first do some more Visualizations : Distribution \n",
    "\n",
    "Understanding the shape of variable distributions helps identify outliers, skewness, and variable scaling.\n",
    "This allows us to ensure when we model the data we reduce issues that could affect model performance."
   ]
  },
  {
   "cell_type": "code",
   "execution_count": null,
   "id": "169f18ad",
   "metadata": {},
   "outputs": [],
   "source": [
    "plt.figure(figsize = (15, 8))\n",
    "sns.countplot(x=df[\"cylinders\"], data = df, palette = \"cubehelix\", hue = \"cylinders\")\n",
    "plt.show()"
   ]
  },
  {
   "cell_type": "markdown",
   "id": "b72fa9d9",
   "metadata": {},
   "source": [
    "    Quick note: countplot helps us see how the cars are distributed based on their number of cylinders.\n"
   ]
  },
  {
   "cell_type": "code",
   "execution_count": null,
   "id": "a58b766a",
   "metadata": {},
   "outputs": [],
   "source": [
    "plt.figure(figsize = (10, 3))\n",
    "sns.countplot(x = df[\"model_year\"], data = df, palette = \"rainbow\", hue = \"model_year\",legend=False)\n",
    "plt.show()"
   ]
  },
  {
   "cell_type": "code",
   "execution_count": null,
   "id": "5c8fed20",
   "metadata": {},
   "outputs": [],
   "source": [
    "plt.figure(figsize = (10, 3))\n",
    "sns.countplot(x=df[\"origin\"], data = df, palette = \"rainbow\", hue = \"origin\",legend=False)\n",
    "plt.xticks(ticks=[0, 1, 2], labels=origin_mapping.values())\n",
    "plt.show()"
   ]
  },
  {
   "cell_type": "markdown",
   "id": "293427eb",
   "metadata": {},
   "source": [
    "## Create a histogram to see how fuel efficiency (MPG) is distributed across all cars\n",
    "KDE is a way of estimating the probability distribution of a variable. It is a smooth alternative to histograms and is often used in exploratory data analysis.\n",
    "`kde=True` adds the smooth curve."
   ]
  },
  {
   "cell_type": "code",
   "execution_count": null,
   "id": "6357b743",
   "metadata": {},
   "outputs": [],
   "source": [
    "\n",
    "# Distribution of target variable\n",
    "sns.histplot(df[\"mpg\"], kde=True, bins=20)\n",
    "plt.title(\"Distribution of Miles Per Gallon (MPG)\")\n",
    "plt.show()\n",
    "\n",
    "# Distribution of key feature\n",
    "sns.histplot(df[\"horsepower\"], kde=True, bins=20)\n",
    "plt.title(\"Distribution of Horsepower\")\n",
    "plt.show()\n"
   ]
  },
  {
   "cell_type": "markdown",
   "id": "f3847233",
   "metadata": {},
   "source": [
    "# Exploratory Data Analysis (EDA)\n",
    "\n",
    "EDA provides insight into relationships between features. Strong linear correlations (positive or negative) make good candidates for linear regression.\n",
    "\n",
    "TLDR: we are able to view the correlation using plots.\n",
    "\n",
    "\n",
    "EDA is the critical first step in any statistical or machine learning workflow.\n",
    "Using the following code we can identify if our data fits a linear model. \n",
    "the following graphs show `horsepower`, `weight`, `displacement` using both pairplots and correlation matrices.\n",
    "\n",
    "\n",
    "Note:\n",
    "a pairplot use scatterplots to visually inspect relationships between each feature(`horsepower`, `weight`, `displacement`)  and the target."
   ]
  },
  {
   "cell_type": "code",
   "execution_count": null,
   "id": "fa3c2c3c",
   "metadata": {},
   "outputs": [],
   "source": [
    "# poorly distributed data\n",
    "sns.pairplot(df[[\"acceleration\", \"model_year\", \"origin\", \"mpg\"]])\n",
    "plt.suptitle(\"Pairwise Relationships\", y=1.02)\n",
    "plt.show()"
   ]
  },
  {
   "cell_type": "code",
   "execution_count": null,
   "id": "ffa55b2e",
   "metadata": {},
   "outputs": [],
   "source": [
    "sns.pairplot(df[[\"mpg\", \"horsepower\", \"weight\", \"displacement\"]])\n",
    "plt.suptitle(\"Pairwise Relationships\", y=1.02)\n",
    "plt.show()\n"
   ]
  },
  {
   "cell_type": "markdown",
   "id": "bfe58e3a",
   "metadata": {},
   "source": [
    "What do you observe?\n",
    "- Is there a downward trend between mpg and weight?\n",
    "- Do heavier cars tend to have higher displacement?"
   ]
  },
  {
   "cell_type": "code",
   "execution_count": null,
   "id": "a501d468",
   "metadata": {},
   "outputs": [],
   "source": [
    "\n",
    "plt.figure(figsize=(10, 6))\n",
    "sns.heatmap(df.corr(), annot=True, cmap=\"coolwarm\")\n",
    "plt.title(\"Correlation Matrix\")\n",
    "plt.show()"
   ]
  },
  {
   "cell_type": "markdown",
   "id": "c4cdfc9f",
   "metadata": {},
   "source": [
    "Reminders: \n",
    "Correlation values range from -1 (strong negative) to +1 (strong positive)\n",
    "\n",
    "`annot=True` writes the number in each cell\n",
    "\n",
    "`cmap` changes the color palette for easier reading"
   ]
  },
  {
   "cell_type": "markdown",
   "id": "97b6c256",
   "metadata": {},
   "source": [
    "## Bivariate Analysis or Boxplot\n",
    "\n",
    "Boxplots display:\n",
    "- Median (center line)\n",
    "- Interquartile range (box)\n",
    "- Possible outliers (dots)"
   ]
  },
  {
   "cell_type": "code",
   "execution_count": null,
   "id": "fd4cc1a8",
   "metadata": {},
   "outputs": [],
   "source": [
    "plt.figure(figsize = (15, 8))\n",
    "sns.boxplot(x = \"cylinders\", y = \"mpg\", data = df, palette = \"Spectral\", hue = \"cylinders\", legend=False)\n",
    "plt.show()"
   ]
  },
  {
   "cell_type": "markdown",
   "id": "f01e6e31",
   "metadata": {},
   "source": [
    "    What do you observe in this data?"
   ]
  },
  {
   "cell_type": "code",
   "execution_count": null,
   "id": "a885a769",
   "metadata": {},
   "outputs": [],
   "source": [
    "plt.figure(figsize = (10, 3))\n",
    "sns.boxplot(x = \"model_year\", y = \"mpg\", data = df, palette = \"Spectral\", hue = \"model_year\", legend=False)\n",
    "plt.show()"
   ]
  },
  {
   "cell_type": "markdown",
   "id": "bfe9b543",
   "metadata": {},
   "source": [
    "## Multivariate Visual Analysis: \n",
    "\n",
    "Before we apply any statistical model like linear regression, it's important to develop a visual understanding of how different features effect eachother. "
   ]
  },
  {
   "cell_type": "markdown",
   "id": "1ccc1cf1",
   "metadata": {},
   "source": [
    "### Horsepower vs MPG"
   ]
  },
  {
   "cell_type": "code",
   "execution_count": null,
   "id": "2de99a43",
   "metadata": {},
   "outputs": [],
   "source": [
    "df[\"origin_label\"] = df[\"origin\"].map(origin_mapping) #creating a new column with the labels for easier plotting\n",
    "graph = sns.lmplot(x = \"horsepower\", y = \"mpg\", hue = \"origin_label\", data = df, palette = \"rainbow\")\n",
    "plt.show()"
   ]
  },
  {
   "cell_type": "code",
   "execution_count": null,
   "id": "52e76baa",
   "metadata": {},
   "outputs": [],
   "source": [
    "graph = sns.lmplot(x = \"horsepower\", y = \"mpg\", hue = \"origin_label\", data = df[df[\"origin\"].isin([0, 2])], palette = \"rainbow\")\n",
    "plt.show()"
   ]
  },
  {
   "cell_type": "markdown",
   "id": "62c9fa0f",
   "metadata": {},
   "source": [
    "### Acceleration vs MPG"
   ]
  },
  {
   "cell_type": "code",
   "execution_count": null,
   "id": "50b1db20",
   "metadata": {},
   "outputs": [],
   "source": [
    "graph = sns.lmplot(x = \"acceleration\", y = \"mpg\", hue = \"origin_label\", data = df, palette = \"rainbow\")\n",
    "plt.show()"
   ]
  },
  {
   "cell_type": "markdown",
   "id": "34157f9f",
   "metadata": {},
   "source": [
    "### Weight vs MPG"
   ]
  },
  {
   "cell_type": "code",
   "execution_count": null,
   "id": "489a064e",
   "metadata": {},
   "outputs": [],
   "source": [
    "graph = sns.lmplot(x = \"weight\", y = \"mpg\", hue = \"origin_label\", data = df, palette = \"rainbow\")\n",
    "plt.show()"
   ]
  },
  {
   "cell_type": "markdown",
   "id": "441356a6",
   "metadata": {},
   "source": [
    "### Displacement vs MPG"
   ]
  },
  {
   "cell_type": "code",
   "execution_count": null,
   "id": "52de3b36",
   "metadata": {},
   "outputs": [],
   "source": [
    "graph = sns.lmplot(x = \"displacement\", y = \"mpg\", hue = \"origin_label\", data = df, palette = \"rainbow\")\n",
    "plt.show()"
   ]
  },
  {
   "cell_type": "code",
   "execution_count": null,
   "id": "f8f0d242",
   "metadata": {},
   "outputs": [],
   "source": [
    "    "
   ]
  }
 ],
 "metadata": {
  "kernelspec": {
   "display_name": "Python 3",
   "language": "python",
   "name": "python3"
  },
  "language_info": {
   "codemirror_mode": {
    "name": "ipython",
    "version": 3
   },
   "file_extension": ".py",
   "mimetype": "text/x-python",
   "name": "python",
   "nbconvert_exporter": "python",
   "pygments_lexer": "ipython3",
   "version": "3.12.3"
  }
 },
 "nbformat": 4,
 "nbformat_minor": 5
}
