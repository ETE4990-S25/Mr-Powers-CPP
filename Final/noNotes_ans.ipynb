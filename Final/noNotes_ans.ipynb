{
 "cells": [
  {
   "cell_type": "markdown",
   "id": "551ceb98",
   "metadata": {},
   "source": [
    "# No Notes Test\n",
    "\n",
    "The following Python program defines a class with multiple methods. \n",
    "\n",
    "Your task is to complete the final_result() method, which should return the sum of all squared numbers that are divisible by 3 and end with the digit 9.\n",
    "\n",
    "Ie -27² = 729, this number is evenly devisable by 3 and has a 9 in the once digit"
   ]
  },
  {
   "cell_type": "code",
   "execution_count": null,
   "id": "5bc42700",
   "metadata": {},
   "outputs": [],
   "source": [
    "class ProcessNumbers:\n",
    "    def __init__(self, values):\n",
    "        self.raw = values\n",
    "        self.cleaned = []\n",
    "        self.transformed = []\n",
    "\n",
    "    def clean(self):\n",
    "        for n in self.raw:\n",
    "            if n >= 0:\n",
    "                self.cleaned.append(n)\n",
    "\n",
    "    def transform(self):\n",
    "        for n in self.cleaned:\n",
    "            self.transformed.append(n * n)\n",
    "\n",
    "    def final_result(self):\n",
    "        total = 0\n",
    "        for n in self.transformed:\n",
    "            if n % 3 == 0 and str(n)[-1] == '9':\n",
    "                total += n\n",
    "        return total\n",
    "    \n",
    "    def final_2nd_result(self):\n",
    "        total = 0\n",
    "        for n in self.transformed:\n",
    "            if n % 3 == 0 and n % 10 == 9:\n",
    "                total += n\n",
    "        return total\n",
    "\n",
    "\n",
    "\n",
    "p = ProcessNumbers([3, -1, 5, 9, -6, 6, 18, -27])\n",
    "p.clean()\n",
    "p.transform()\n",
    "print(\"Final result:\", p.final_result())\n"
   ]
  },
  {
   "cell_type": "markdown",
   "id": "1e491801",
   "metadata": {},
   "source": [
    "``` Yaml\n",
    "Final result: 9\n",
    "```"
   ]
  },
  {
   "cell_type": "markdown",
   "id": "542a759b",
   "metadata": {},
   "source": []
  }
 ],
 "metadata": {
  "kernelspec": {
   "display_name": "Python 3",
   "language": "python",
   "name": "python3"
  },
  "language_info": {
   "codemirror_mode": {
    "name": "ipython",
    "version": 3
   },
   "file_extension": ".py",
   "mimetype": "text/x-python",
   "name": "python",
   "nbconvert_exporter": "python",
   "pygments_lexer": "ipython3",
   "version": "3.12.3"
  }
 },
 "nbformat": 4,
 "nbformat_minor": 5
}
