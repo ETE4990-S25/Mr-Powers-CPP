{
 "cells": [
  {
   "cell_type": "markdown",
   "id": "071836b0",
   "metadata": {},
   "source": [
    "Cheater"
   ]
  }
 ],
 "metadata": {
  "language_info": {
   "name": "python"
  }
 },
 "nbformat": 4,
 "nbformat_minor": 5
}
